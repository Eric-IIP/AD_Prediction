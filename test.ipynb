{
 "cells": [
  {
   "cell_type": "code",
   "execution_count": 1,
   "id": "23f98716",
   "metadata": {},
   "outputs": [
    {
     "name": "stdout",
     "output_type": "stream",
     "text": [
      "Match data for 8291337212 has been successfully fetched!\n",
      "Player 0 - Hero ID: 30: Witch Doctor\n",
      "Player 1 - Hero ID: 99: Bristleback\n",
      "Player 2 - Hero ID: 55: Dark Seer\n",
      "Player 3 - Hero ID: 100: Tusk\n",
      "Player 4 - Hero ID: 53: Nature's Prophet\n",
      "Player 128 - Hero ID: 13: Puck\n",
      "Player 129 - Hero ID: 102: Abaddon\n",
      "Player 130 - Hero ID: 120: Pangolier\n",
      "Player 131 - Hero ID: 27: Shadow Shaman\n",
      "Player 132 - Hero ID: 64: Jakiro\n"
     ]
    }
   ],
   "source": [
    "import DataRetrieval\n",
    "from DataRetrieval import fetch_match\n",
    "from DataRetrieval import get_ability_name_by_id\n",
    "from DataRetrieval import get_hero_name_by_id\n",
    "from DataRetrieval import get_player_profile_info\n",
    "from DataRetrieval import check_ability_upgrades\n",
    "\n",
    "match_data = fetch_match()\n",
    "\n",
    "\n",
    "for player in match_data['players']:\n",
    "    print(f\"Player {player['player_slot']} - Hero ID: {get_hero_name_by_id(player['hero_id'])}\")\n"
   ]
  },
  {
   "cell_type": "code",
   "execution_count": 2,
   "id": "e0c75dab",
   "metadata": {},
   "outputs": [
    {
     "name": "stdout",
     "output_type": "stream",
     "text": [
      "Player 0 with ID:100616105 ability upgrades:\n",
      "[5138, 5140, 5141, 5139, 6995, 6524, 6298]\n",
      "5138: Paralyzing Cask\n",
      "5140: Maledict\n",
      "5141: Death Ward\n",
      "5139: Voodoo Restoration\n",
      "6995: -25% Voodoo Restoration Mana Per Second\n",
      "6524: +2 Cask Bounces\n",
      "6298: +1% Target Max Health Voodoo Restoration Heal\n",
      "Player 1 with ID:861414087 ability upgrades:\n",
      "[5549, 5550, 5548, 5551, 1078, 7132, 6360, 6615, 6016]\n",
      "5549: Quill Spray\n",
      "5550: Bristleback\n",
      "5548: Viscous Nasal Goo\n",
      "5551: Warpath\n",
      "1078: +{s:bonus_AbilityCastRange} Goo Cast Range\n",
      "7132: +1.5 Mana Regen\n",
      "6360: +{s:bonus_quill_stack_damage} Quill Stack Damage\n",
      "6615: +{s:bonus_damage_per_stack} Warpath Damage Per Stack\n",
      "6016: +25 Attack Speed\n",
      "Player 2 with ID:337575662 ability upgrades:\n",
      "[5256, 5257, 5255, 5258, 560, 6365, 736]\n",
      "5256: Ion Shell\n",
      "5257: Surge\n",
      "5255: Vacuum\n",
      "5258: Wall of Replica\n",
      "560: +20% Wall of Replica Illusion Damage\n",
      "6365: +75 Vacuum AoE\n",
      "736: -40s Wall of Replica Cooldown\n",
      "Player 3 with ID:399862798 ability upgrades:\n",
      "[5565, 7322, 5566, 5568, 414, 6423, 6963]\n",
      "5565: Ice Shards\n",
      "7322: Tag Team\n",
      "5566: Snowball\n",
      "5568: Walrus PUNCH!\n",
      "414: +0.75s Walrus Punch Stun Duration\n",
      "6423: +325 Health\n",
      "6963: -6s Ice Shards Cooldown\n",
      "Player 4 with ID:389022189 ability upgrades:\n",
      "[5247, 5245, 5246, 5248, 926, 730, 6500, 927, 6084]\n",
      "5247: Nature's Call\n",
      "5245: Sprout\n",
      "5246: Teleportation\n",
      "5248: Wrath of Nature\n",
      "926: -10s Nature's Call Cooldown\n",
      "730: \n",
      "6500: +{s:bonus_treant_movespeed} Treant Movement Speed\n",
      "927: Sprout Leashes\n",
      "6084: {s:bonus_treant_health}x Treant HP/Damage\n",
      "Player 128 with ID:218367241 ability upgrades:\n",
      "[5069, 5072, 5071, 5073, 1057, 407, 6402, 1129, 767, 6219, 1058, 348]\n",
      "5069: Illusory Orb\n",
      "5072: Phase Shift\n",
      "5071: Waning Rift\n",
      "5073: Dream Coil\n",
      "1057: +40 Illusory Orb Damage\n",
      "407: +60 Waning Rift Damage\n",
      "6402: -3s Waning Rift Cooldown\n",
      "1129: +350 Waning Rift Radius/Max Distance\n",
      "767: +1.25s Waning Rift Silence Duration\n",
      "6219: -15s Dream Coil Cooldown\n",
      "1058: +200 Initial/Break Dream Coil Damage\n",
      "348: Dream Coil Pierces Debuff Immunity\n",
      "Player 129 with ID:353498499 ability upgrades:\n",
      "[5586, 5587, 730, 5588, 7340, 8251, 5585, 972, 6602]\n",
      "5586: Aphotic Shield\n",
      "5587: Curse of Avernus\n",
      "730: \n",
      "5588: Borrowed Time\n",
      "7340: +50 Curse of Avernus DPS\n",
      "8251: 100 Borrowed Time Immolation DPS\n",
      "5585: Mist Coil\n",
      "972: +10% Withering Mist Heal Reduction\n",
      "6602: +80 Curse of Avernus Attack Speed Bonus\n",
      "Player 130 with ID:145331311 ability upgrades:\n",
      "[6461, 6344, 6343, 7307, 9060, 1054, 9135, 9062, 9063]\n",
      "6461: Shield Crash\n",
      "6344: Swashbuckle\n",
      "6343: Rolling Thunder\n",
      "7307: Lucky Shot\n",
      "9060: +15% Attack Damage as Swashbuckle Damage\n",
      "1054: +4 Lucky Shot Armor Reduction\n",
      "9135: +2s Rolling Thunder Duration\n",
      "9062: -15s Rolling Thunder Cooldown\n",
      "9063: +200 Swashbuckle Slash Range\n",
      "Player 131 with ID:162274034 ability upgrades:\n",
      "[5080, 5078, 5079, 5081, 6926, 760, 6295, 6502]\n",
      "5080: Shackles\n",
      "5078: Ether Shock\n",
      "5079: Hex\n",
      "5081: Mass Serpent Ward\n",
      "6926: +1.75 Mana Regen\n",
      "760: Hex Breaks\n",
      "6295: +1.5s Shackles Duration\n",
      "6502: +250 Ether Shock Damage\n",
      "Player 132 with ID:103045129 ability upgrades:\n",
      "[1317, 5297, 5298, 5300, 5299, 526, 5963, 542]\n",
      "1317: Liquid Frost\n",
      "5297: Dual Breath\n",
      "5298: Ice Path\n",
      "5300: Macropyre\n",
      "5299: Liquid Fire\n",
      "526: -1.5s Ice Path Cooldown\n",
      "5963: +150 Attack Range\n",
      "542: +20 Macropyre Damage\n"
     ]
    }
   ],
   "source": [
    "players_id = []\n",
    "for player in match_data['players']:\n",
    "    abilities = []\n",
    "    print(f\"Player {player['player_slot']} with ID:{player['account_id']} ability upgrades:\")\n",
    "    players_id.append(player['account_id'])\n",
    "    for upgrade in player['ability_upgrades_arr']:\n",
    "        if upgrade not in abilities:\n",
    "            abilities.append(upgrade)\n",
    "    print(abilities)\n",
    "    for pl_ability in abilities:\n",
    "        print(get_ability_name_by_id(pl_ability))\n"
   ]
  },
  {
   "cell_type": "code",
   "execution_count": 3,
   "id": "1f031e38",
   "metadata": {},
   "outputs": [
    {
     "name": "stdout",
     "output_type": "stream",
     "text": [
      "{'account_id': 100616105, 'game_mode_id': 22, 'game_mode': 'Ranked All Pick', 'personaname': 'Unknown', 'rank_tier': 80, 'behavior_score': 'Unknown', 'wins': 6992, 'losses': 6421, 'overall_winrate': '52.13%', 'last_20_winrate': '55.0%'}\n",
      "{'account_id': 861414087, 'game_mode_id': 22, 'game_mode': 'Ranked All Pick', 'personaname': 'Unknown', 'rank_tier': 80, 'behavior_score': 'Unknown', 'wins': 1569, 'losses': 1522, 'overall_winrate': '50.76%', 'last_20_winrate': '55.0%'}\n",
      "{'account_id': 337575662, 'game_mode_id': 22, 'game_mode': 'Ranked All Pick', 'personaname': 'Unknown', 'rank_tier': 80, 'behavior_score': 'Unknown', 'wins': 2901, 'losses': 2536, 'overall_winrate': '53.36%', 'last_20_winrate': '55.0%'}\n",
      "{'account_id': 399862798, 'game_mode_id': 22, 'game_mode': 'Ranked All Pick', 'personaname': 'Unknown', 'rank_tier': 80, 'behavior_score': 'Unknown', 'wins': 2753, 'losses': 2438, 'overall_winrate': '53.03%', 'last_20_winrate': '50.0%'}\n",
      "{'account_id': 389022189, 'game_mode_id': 22, 'game_mode': 'Ranked All Pick', 'personaname': 'Unknown', 'rank_tier': 80, 'behavior_score': 'Unknown', 'wins': 4336, 'losses': 3998, 'overall_winrate': '52.03%', 'last_20_winrate': '50.0%'}\n",
      "{'account_id': 218367241, 'game_mode_id': 22, 'game_mode': 'Ranked All Pick', 'personaname': 'Unknown', 'rank_tier': 80, 'behavior_score': 'Unknown', 'wins': 1269, 'losses': 954, 'overall_winrate': '57.09%', 'last_20_winrate': '50.0%'}\n",
      "{'account_id': 353498499, 'game_mode_id': 22, 'game_mode': 'Ranked All Pick', 'personaname': 'Unknown', 'rank_tier': 80, 'behavior_score': 'Unknown', 'wins': 1581, 'losses': 1374, 'overall_winrate': '53.5%', 'last_20_winrate': '55.0%'}\n",
      "{'account_id': 145331311, 'game_mode_id': 22, 'game_mode': 'Ranked All Pick', 'personaname': 'Unknown', 'rank_tier': 80, 'behavior_score': 'Unknown', 'wins': 1574, 'losses': 1193, 'overall_winrate': '56.88%', 'last_20_winrate': '65.0%'}\n",
      "{'account_id': 162274034, 'game_mode_id': 22, 'game_mode': 'Ranked All Pick', 'personaname': 'Unknown', 'rank_tier': 80, 'behavior_score': 'Unknown', 'wins': 4661, 'losses': 4362, 'overall_winrate': '51.66%', 'last_20_winrate': '55.0%'}\n",
      "{'account_id': 103045129, 'game_mode_id': 22, 'game_mode': 'Ranked All Pick', 'personaname': 'Unknown', 'rank_tier': 80, 'behavior_score': 'Unknown', 'wins': 3947, 'losses': 3240, 'overall_winrate': '54.92%', 'last_20_winrate': '60.0%'}\n"
     ]
    }
   ],
   "source": [
    "for player_id in players_id:\n",
    "    player_info = get_player_profile_info(player_id, game_mode=22) \n",
    "    print(player_info)"
   ]
  },
  {
   "cell_type": "code",
   "execution_count": 4,
   "id": "04abeda7",
   "metadata": {},
   "outputs": [
    {
     "name": "stdout",
     "output_type": "stream",
     "text": [
      "Player 0 has Scepter: False, Shard: False\n",
      "Player 1 has Scepter: False, Shard: False\n",
      "Player 2 has Scepter: False, Shard: False\n",
      "Player 3 has Scepter: False, Shard: False\n",
      "Player 4 has Scepter: False, Shard: False\n",
      "Player 128 has Scepter: False, Shard: False\n",
      "Player 129 has Scepter: False, Shard: False\n",
      "Player 130 has Scepter: True, Shard: False\n",
      "Player 131 has Scepter: False, Shard: False\n",
      "Player 132 has Scepter: True, Shard: False\n"
     ]
    }
   ],
   "source": [
    "AGHANIMS_SCEPTER_ID = 108\n",
    "AGHANIMS_SHARD_ID = 297\n",
    "\n",
    "for player in match_data['players']:\n",
    "    items = [player[f'item_{i}'] for i in range(6)]\n",
    "    has_scepter = AGHANIMS_SCEPTER_ID in items\n",
    "    has_shard = AGHANIMS_SHARD_ID in items\n",
    "    print(f\"Player {player['player_slot']} has Scepter: {has_scepter}, Shard: {has_shard}\")\n"
   ]
  },
  {
   "cell_type": "code",
   "execution_count": 6,
   "id": "32e36361",
   "metadata": {},
   "outputs": [
    {
     "name": "stdout",
     "output_type": "stream",
     "text": [
      "{}\n"
     ]
    }
   ],
   "source": [
    "print(check_ability_upgrades(5138))"
   ]
  }
 ],
 "metadata": {
  "kernelspec": {
   "display_name": "myenv",
   "language": "python",
   "name": "python3"
  },
  "language_info": {
   "codemirror_mode": {
    "name": "ipython",
    "version": 3
   },
   "file_extension": ".py",
   "mimetype": "text/x-python",
   "name": "python",
   "nbconvert_exporter": "python",
   "pygments_lexer": "ipython3",
   "version": "3.11.9"
  }
 },
 "nbformat": 4,
 "nbformat_minor": 5
}
