{
 "cells": [
  {
   "cell_type": "code",
   "execution_count": 32,
   "id": "bf80e249",
   "metadata": {},
   "outputs": [
    {
     "name": "stdout",
     "output_type": "stream",
     "text": [
      "Match data for 8291337212 has been successfully fetched!\n"
     ]
    }
   ],
   "source": [
    "import json\n",
    "import requests\n",
    "\n",
    "\n",
    "# Fetches the map of abilities\n",
    "ability_ids_url = \"https://raw.githubusercontent.com/odota/dotaconstants/master/build/ability_ids.json\"\n",
    "abilities_url = \"https://raw.githubusercontent.com/odota/dotaconstants/master/build/abilities.json\"\n",
    "\n",
    "ability_ids = requests.get(ability_ids_url).json()\n",
    "abilities = requests.get(abilities_url).json()\n",
    "\n",
    "# hero mapping fetching\n",
    "hero_ids_url = \"https://raw.githubusercontent.com/odota/dotaconstants/master/build/heroes.json\"\n",
    "heroes_url = \"https://raw.githubusercontent.com/odota/dotaconstants/master/build/heroes.json\"\n",
    "\n",
    "# Load JSONs\n",
    "hero_ids = requests.get(hero_ids_url).json()\n",
    "heroes = requests.get(heroes_url).json()\n",
    "\n",
    "\n",
    "\n",
    "\n",
    "# fetches match data\n",
    "match_id = 8291337212\n",
    "url = f\"https://api.opendota.com/api/matches/{match_id}\"\n",
    "\n",
    "\n",
    "response = requests.get(url)\n",
    "\n",
    "\n",
    "\n",
    "if response.status_code == 200:\n",
    "    match_data = response.json()\n",
    "    print(f\"Match data for {match_id} has been successfully fetched!\")\n",
    "    # print(\"Match ID:\", match_data['match_id'])\n",
    "    # print(\"Duration (seconds):\", match_data['duration'])\n",
    "    # print(\"Radiant Win:\", match_data['radiant_win'])\n",
    "    # print(\"Radiant Score:\", match_data['radiant_score'])\n",
    "    # print(\"Dire Score:\", match_data['dire_score'])\n",
    "    # print(\"First Blood Time:\", match_data['first_blood_time'])\n",
    "else:\n",
    "    print(\"Failed to fetch match data. Status code:\", response.status_code)\n",
    "    \n"
   ]
  },
  {
   "cell_type": "code",
   "execution_count": 43,
   "id": "308a4e2d",
   "metadata": {},
   "outputs": [
    {
     "name": "stdout",
     "output_type": "stream",
     "text": [
      "1317: Liquid Frost\n"
     ]
    }
   ],
   "source": [
    "\n",
    "def get_ability_name_by_id(ability_id):\n",
    "    ability_key = ability_ids.get(str(ability_id))\n",
    "    if not ability_key:\n",
    "        return f\"Unknown ability ID: {ability_id}\"\n",
    "    \n",
    "    ability_data = abilities.get(ability_key)\n",
    "    if not ability_data:\n",
    "        return f\"Ability key '{ability_key}' not found in abilities.json\"\n",
    "    \n",
    "    return str(ability_id) + \": \" +ability_data.get('dname', ability_key)\n",
    "\n",
    "# Example\n",
    "print(get_ability_name_by_id(1317))  # Should print: Persecutor\n"
   ]
  },
  {
   "cell_type": "code",
   "execution_count": 41,
   "id": "b280e312",
   "metadata": {},
   "outputs": [
    {
     "name": "stdout",
     "output_type": "stream",
     "text": [
      "30: Witch Doctor\n"
     ]
    }
   ],
   "source": [
    "def get_hero_name_by_id(hero_id):\n",
    "    hero_id_str = str(hero_id)\n",
    "    key = hero_ids.get(hero_id_str)\n",
    "    return str(hero_id) + \": \" + key['localized_name']\n",
    "\n",
    "print(get_hero_name_by_id(30))"
   ]
  },
  {
   "cell_type": "code",
   "execution_count": null,
   "id": "23f98716",
   "metadata": {},
   "outputs": [
    {
     "name": "stdout",
     "output_type": "stream",
     "text": [
      "Player 0 Hero ID: 30\n",
      "Player 1 Hero ID: 99\n",
      "Player 2 Hero ID: 55\n",
      "Player 3 Hero ID: 100\n",
      "Player 4 Hero ID: 53\n",
      "Player 128 Hero ID: 13\n",
      "Player 129 Hero ID: 102\n",
      "Player 130 Hero ID: 120\n",
      "Player 131 Hero ID: 27\n",
      "Player 132 Hero ID: 64\n"
     ]
    }
   ],
   "source": [
    "for player in match_data['players']:\n",
    "    print(f\"Player {player['player_slot']} Hero ID: {player['hero_id']}\")+\n"
   ]
  },
  {
   "cell_type": "code",
   "execution_count": 45,
   "id": "e0c75dab",
   "metadata": {},
   "outputs": [
    {
     "name": "stdout",
     "output_type": "stream",
     "text": [
      "Player 0:100616105 ability upgrades:\n",
      "[5138, 5140, 5141, 5139, 6995, 6524, 6298]\n",
      "Player 1:861414087 ability upgrades:\n",
      "[5549, 5550, 5548, 5551, 1078, 7132, 6360, 6615, 6016]\n",
      "Player 2:337575662 ability upgrades:\n",
      "[5256, 5257, 5255, 5258, 560, 6365, 736]\n",
      "Player 3:399862798 ability upgrades:\n",
      "[5565, 7322, 5566, 5568, 414, 6423, 6963]\n",
      "Player 4:389022189 ability upgrades:\n",
      "[5247, 5245, 5246, 5248, 926, 730, 6500, 927, 6084]\n",
      "Player 128:218367241 ability upgrades:\n",
      "[5069, 5072, 5071, 5073, 1057, 407, 6402, 1129, 767, 6219, 1058, 348]\n",
      "Player 129:353498499 ability upgrades:\n",
      "[5586, 5587, 730, 5588, 7340, 8251, 5585, 972, 6602]\n",
      "Player 130:145331311 ability upgrades:\n",
      "[6461, 6344, 6343, 7307, 9060, 1054, 9135, 9062, 9063]\n",
      "Player 131:162274034 ability upgrades:\n",
      "[5080, 5078, 5079, 5081, 6926, 760, 6295, 6502]\n",
      "Player 132:103045129 ability upgrades:\n",
      "[1317, 5297, 5298, 5300, 5299, 526, 5963, 542]\n"
     ]
    }
   ],
   "source": [
    "\n",
    "for player in match_data['players']:\n",
    "    abilities = []\n",
    "    print(f\"Player {player['player_slot']}:{player['account_id']} ability upgrades:\")\n",
    "    for upgrade in player['ability_upgrades_arr']:\n",
    "        if upgrade not in abilities:\n",
    "            abilities.append(upgrade)\n",
    "    print(abilities)\n",
    "\n"
   ]
  },
  {
   "cell_type": "code",
   "execution_count": 7,
   "id": "5e394bb5",
   "metadata": {},
   "outputs": [
    {
     "name": "stdout",
     "output_type": "stream",
     "text": [
      "MMR Estimate: None\n",
      "MMR Estimate: None\n",
      "MMR Estimate: None\n",
      "MMR Estimate: None\n",
      "MMR Estimate: None\n",
      "MMR Estimate: None\n",
      "MMR Estimate: None\n",
      "MMR Estimate: None\n",
      "MMR Estimate: None\n",
      "MMR Estimate: None\n"
     ]
    }
   ],
   "source": [
    "for player in match_data['players']:\n",
    "    print(f\"MMR Estimate: {player.get('mmr_estimate', {}).get('estimate')}\")\n"
   ]
  },
  {
   "cell_type": "code",
   "execution_count": 8,
   "id": "04abeda7",
   "metadata": {},
   "outputs": [
    {
     "name": "stdout",
     "output_type": "stream",
     "text": [
      "Player 0 has Scepter: False, Shard: False\n",
      "Player 1 has Scepter: False, Shard: False\n",
      "Player 2 has Scepter: False, Shard: False\n",
      "Player 3 has Scepter: False, Shard: False\n",
      "Player 4 has Scepter: False, Shard: False\n",
      "Player 128 has Scepter: False, Shard: False\n",
      "Player 129 has Scepter: False, Shard: False\n",
      "Player 130 has Scepter: True, Shard: False\n",
      "Player 131 has Scepter: False, Shard: False\n",
      "Player 132 has Scepter: True, Shard: False\n"
     ]
    }
   ],
   "source": [
    "AGHANIMS_SCEPTER_ID = 108\n",
    "AGHANIMS_SHARD_ID = 297\n",
    "\n",
    "for player in match_data['players']:\n",
    "    items = [player[f'item_{i}'] for i in range(6)]\n",
    "    has_scepter = AGHANIMS_SCEPTER_ID in items\n",
    "    has_shard = AGHANIMS_SHARD_ID in items\n",
    "    print(f\"Player {player['player_slot']} has Scepter: {has_scepter}, Shard: {has_shard}\")\n"
   ]
  },
  {
   "cell_type": "code",
   "execution_count": null,
   "id": "475bcf11",
   "metadata": {},
   "outputs": [
    {
     "name": "stdout",
     "output_type": "stream",
     "text": [
      "1317: Liquid Frost\n"
     ]
    }
   ],
   "source": [
    "\n",
    "\n",
    "\n",
    "\n",
    "def get_ability_name_by_id(ability_id):\n",
    "    ability_key = ability_ids.get(str(ability_id))\n",
    "    if not ability_key:\n",
    "        return f\"Unknown ability ID: {ability_id}\"\n",
    "    \n",
    "    ability_data = abilities.get(ability_key)\n",
    "    if not ability_data:\n",
    "        return f\"Ability key '{ability_key}' not found in abilities.json\"\n",
    "    \n",
    "    return str(ability_id) + \": \" +ability_data.get('dname', ability_key)\n",
    "\n",
    "# Example\n",
    "print(get_ability_name_by_id(1317))  # Should print: Persecutor\n"
   ]
  }
 ],
 "metadata": {
  "kernelspec": {
   "display_name": "myenv",
   "language": "python",
   "name": "python3"
  },
  "language_info": {
   "codemirror_mode": {
    "name": "ipython",
    "version": 3
   },
   "file_extension": ".py",
   "mimetype": "text/x-python",
   "name": "python",
   "nbconvert_exporter": "python",
   "pygments_lexer": "ipython3",
   "version": "3.11.9"
  }
 },
 "nbformat": 4,
 "nbformat_minor": 5
}
